{
 "cells": [
  {
   "cell_type": "markdown",
   "metadata": {},
   "source": [
    "## Goal\n",
    "\n",
    "The goal of this notebook is to aquiring, cleaning, and analysing asthma data for the Philedelphia area. As primary effects, younger kids and older adults. To look into this trend, I will be using datasets One containing the hospitalization, data of kids under 18 years age and other containing death data, which is retrieved from the CDC wonder dataset.\n",
    "\n",
    "\n",
    "The data will subsequently be used to create a model that can predict the number of asthma related emergency room visits and deaths in the Philedelphia area. \n",
    "\n",
    "# License\n",
    "\n",
    "The code in the notebook is licensed under the standard [MIT license](LICENSE).\n",
    "\n"
   ]
  },
  {
   "cell_type": "markdown",
   "metadata": {},
   "source": [
    "First, we import essential libraries - pandas for data manipulation and numpy for numerical computations, matplotlib for visualising the acquired data.\n"
   ]
  },
  {
   "cell_type": "markdown",
   "metadata": {},
   "source": [
    "- `pandas`: A powerful data manipulation and analysis library for Python.\n",
    "- `numpy`: A fundamental package for scientific computing with Python, providing support for arrays and matrices.\n",
    "- `polars`: A fast DataFrame library for Rust and Python, designed for performance and ease of use.\n",
    "- `matplotlib.pyplot`: A plotting library for creating static, animated, and interactive visualizations in Python.\n",
    "- `seaborn`: A statistical data visualization library based on matplotlib, providing a high-level interface for drawing attractive and informative statistical graphics.\n",
    "- `statsmodels.tools.eval_measures.rmse`: A function to calculate the root mean square error, a measure of the differences between predicted and observed values.\n",
    "- `warnings`: A built-in Python module for issuing warning messages.\n",
    "- `sklearn.preprocessing.StandardScaler`: A module for standardizing features by removing the mean and scaling to unit variance.\n",
    "- `scipy.stats.pearsonr`: A function to calculate the Pearson correlation coefficient and p-value for testing non-correlation.\n",
    "- `scipy.stats.kendalltau`: A function to calculate Kendall's tau, a measure of correlation between two variables.\n",
    "- `scipy.stats`: A module that contains a large number of probability distributions as well as a growing library of statistical functions.\n"
   ]
  },
  {
   "cell_type": "code",
   "execution_count": 2,
   "metadata": {},
   "outputs": [],
   "source": [
    "import pandas as pd\n",
    "import numpy as np\n",
    "import polars as pl\n",
    "import pandas as pd\n",
    "import matplotlib.pyplot as plt\n",
    "import seaborn as sns\n",
    "import numpy as np\n",
    "from statsmodels.tsa.statespace.varmax import VARMAX\n",
    "from statsmodels.tools.eval_measures import rmse\n",
    "import warnings\n",
    "from sklearn.preprocessing import StandardScaler\n",
    "from scipy.stats import pearsonr\n",
    "from scipy.stats import kendalltau\n",
    "import scipy.stats\n",
    "from statsmodels.tsa.statespace.sarimax import SARIMAX\n",
    "\n"
   ]
  },
  {
   "cell_type": "markdown",
   "metadata": {},
   "source": [
    "## All Deaths due respiratory dieseases in Philedelphia county\n",
    "\n",
    "First, we load the data from the CDC wonder dataset. The data contains the number of deaths due to respiratory diseases in Philedelphia county. The data is loaded into a pandas dataframe and displayed. then, it is converted to a polars dataframe for further processing."
   ]
  },
  {
   "cell_type": "code",
   "execution_count": 3,
   "metadata": {},
   "outputs": [
    {
     "data": {
      "text/html": [
       "<div><style>\n",
       ".dataframe > thead > tr,\n",
       ".dataframe > tbody > tr {\n",
       "  text-align: right;\n",
       "  white-space: pre-wrap;\n",
       "}\n",
       "</style>\n",
       "<small>shape: (22, 6)</small><table border=\"1\" class=\"dataframe\"><thead><tr><th>Notes</th><th>Year</th><th>Year Code</th><th>Deaths</th><th>Population</th><th>Crude Rate</th></tr><tr><td>f64</td><td>i64</td><td>i64</td><td>i64</td><td>i64</td><td>f64</td></tr></thead><tbody><tr><td>null</td><td>1999</td><td>1999</td><td>3699</td><td>1520064</td><td>243.3</td></tr><tr><td>null</td><td>2000</td><td>2000</td><td>3670</td><td>1517550</td><td>241.8</td></tr><tr><td>null</td><td>2001</td><td>2001</td><td>3448</td><td>1505455</td><td>229.0</td></tr><tr><td>null</td><td>2002</td><td>2002</td><td>3415</td><td>1498493</td><td>227.9</td></tr><tr><td>null</td><td>2003</td><td>2003</td><td>3255</td><td>1493802</td><td>217.9</td></tr><tr><td>&hellip;</td><td>&hellip;</td><td>&hellip;</td><td>&hellip;</td><td>&hellip;</td><td>&hellip;</td></tr><tr><td>null</td><td>2016</td><td>2016</td><td>2567</td><td>1567872</td><td>163.7</td></tr><tr><td>null</td><td>2017</td><td>2017</td><td>2303</td><td>1580863</td><td>145.7</td></tr><tr><td>null</td><td>2018</td><td>2018</td><td>2277</td><td>1584138</td><td>143.7</td></tr><tr><td>null</td><td>2019</td><td>2019</td><td>2206</td><td>1584064</td><td>139.3</td></tr><tr><td>null</td><td>2020</td><td>2020</td><td>3439</td><td>1578487</td><td>217.9</td></tr></tbody></table></div>"
      ],
      "text/plain": [
       "shape: (22, 6)\n",
       "┌───────┬──────┬───────────┬────────┬────────────┬────────────┐\n",
       "│ Notes ┆ Year ┆ Year Code ┆ Deaths ┆ Population ┆ Crude Rate │\n",
       "│ ---   ┆ ---  ┆ ---       ┆ ---    ┆ ---        ┆ ---        │\n",
       "│ f64   ┆ i64  ┆ i64       ┆ i64    ┆ i64        ┆ f64        │\n",
       "╞═══════╪══════╪═══════════╪════════╪════════════╪════════════╡\n",
       "│ null  ┆ 1999 ┆ 1999      ┆ 3699   ┆ 1520064    ┆ 243.3      │\n",
       "│ null  ┆ 2000 ┆ 2000      ┆ 3670   ┆ 1517550    ┆ 241.8      │\n",
       "│ null  ┆ 2001 ┆ 2001      ┆ 3448   ┆ 1505455    ┆ 229.0      │\n",
       "│ null  ┆ 2002 ┆ 2002      ┆ 3415   ┆ 1498493    ┆ 227.9      │\n",
       "│ null  ┆ 2003 ┆ 2003      ┆ 3255   ┆ 1493802    ┆ 217.9      │\n",
       "│ …     ┆ …    ┆ …         ┆ …      ┆ …          ┆ …          │\n",
       "│ null  ┆ 2016 ┆ 2016      ┆ 2567   ┆ 1567872    ┆ 163.7      │\n",
       "│ null  ┆ 2017 ┆ 2017      ┆ 2303   ┆ 1580863    ┆ 145.7      │\n",
       "│ null  ┆ 2018 ┆ 2018      ┆ 2277   ┆ 1584138    ┆ 143.7      │\n",
       "│ null  ┆ 2019 ┆ 2019      ┆ 2206   ┆ 1584064    ┆ 139.3      │\n",
       "│ null  ┆ 2020 ┆ 2020      ┆ 3439   ┆ 1578487    ┆ 217.9      │\n",
       "└───────┴──────┴───────────┴────────┴────────────┴────────────┘"
      ]
     },
     "execution_count": 3,
     "metadata": {},
     "output_type": "execute_result"
    }
   ],
   "source": [
    "#read csv file\n",
    "all_resp_deaths = pd.read_csv('initial data files/all disease deaths 1999-2020.txt', sep='\\t')\n",
    "#convert to polars\n",
    "all_resp_deaths = pl.DataFrame(all_resp_deaths)\n",
    "all_resp_deaths"
   ]
  },
  {
   "cell_type": "markdown",
   "metadata": {},
   "source": [
    "Below, we get the deaths for all respiratory diseases in Philedelphia county per 100000 people."
   ]
  },
  {
   "cell_type": "code",
   "execution_count": 4,
   "metadata": {},
   "outputs": [
    {
     "data": {
      "text/html": [
       "<div><style>\n",
       ".dataframe > thead > tr,\n",
       ".dataframe > tbody > tr {\n",
       "  text-align: right;\n",
       "  white-space: pre-wrap;\n",
       "}\n",
       "</style>\n",
       "<small>shape: (22, 4)</small><table border=\"1\" class=\"dataframe\"><thead><tr><th>Year</th><th>Deaths</th><th>Population</th><th>Deaths per 100000</th></tr><tr><td>i64</td><td>i64</td><td>i64</td><td>f64</td></tr></thead><tbody><tr><td>1999</td><td>3699</td><td>1520064</td><td>243.345017</td></tr><tr><td>2000</td><td>3670</td><td>1517550</td><td>241.837172</td></tr><tr><td>2001</td><td>3448</td><td>1505455</td><td>229.033747</td></tr><tr><td>2002</td><td>3415</td><td>1498493</td><td>227.895626</td></tr><tr><td>2003</td><td>3255</td><td>1493802</td><td>217.900364</td></tr><tr><td>&hellip;</td><td>&hellip;</td><td>&hellip;</td><td>&hellip;</td></tr><tr><td>2016</td><td>2567</td><td>1567872</td><td>163.7251</td></tr><tr><td>2017</td><td>2303</td><td>1580863</td><td>145.679923</td></tr><tr><td>2018</td><td>2277</td><td>1584138</td><td>143.737477</td></tr><tr><td>2019</td><td>2206</td><td>1584064</td><td>139.26205</td></tr><tr><td>2020</td><td>3439</td><td>1578487</td><td>217.866856</td></tr></tbody></table></div>"
      ],
      "text/plain": [
       "shape: (22, 4)\n",
       "┌──────┬────────┬────────────┬───────────────────┐\n",
       "│ Year ┆ Deaths ┆ Population ┆ Deaths per 100000 │\n",
       "│ ---  ┆ ---    ┆ ---        ┆ ---               │\n",
       "│ i64  ┆ i64    ┆ i64        ┆ f64               │\n",
       "╞══════╪════════╪════════════╪═══════════════════╡\n",
       "│ 1999 ┆ 3699   ┆ 1520064    ┆ 243.345017        │\n",
       "│ 2000 ┆ 3670   ┆ 1517550    ┆ 241.837172        │\n",
       "│ 2001 ┆ 3448   ┆ 1505455    ┆ 229.033747        │\n",
       "│ 2002 ┆ 3415   ┆ 1498493    ┆ 227.895626        │\n",
       "│ 2003 ┆ 3255   ┆ 1493802    ┆ 217.900364        │\n",
       "│ …    ┆ …      ┆ …          ┆ …                 │\n",
       "│ 2016 ┆ 2567   ┆ 1567872    ┆ 163.7251          │\n",
       "│ 2017 ┆ 2303   ┆ 1580863    ┆ 145.679923        │\n",
       "│ 2018 ┆ 2277   ┆ 1584138    ┆ 143.737477        │\n",
       "│ 2019 ┆ 2206   ┆ 1584064    ┆ 139.26205         │\n",
       "│ 2020 ┆ 3439   ┆ 1578487    ┆ 217.866856        │\n",
       "└──────┴────────┴────────────┴───────────────────┘"
      ]
     },
     "execution_count": 4,
     "metadata": {},
     "output_type": "execute_result"
    }
   ],
   "source": [
    "#get deaths per 100000 people\n",
    "all_resp_deaths_per_100000 = (\n",
    "    all_resp_deaths\n",
    "    .with_columns(\n",
    "        (\n",
    "            pl.col('Deaths') / pl.col('Population') * 100000).alias('Deaths per 100000')\n",
    "    )\n",
    "    .select(\n",
    "        'Year', 'Deaths','Population','Deaths per 100000'\n",
    "    )\n",
    ")\n",
    "all_resp_deaths_per_100000"
   ]
  },
  {
   "cell_type": "markdown",
   "metadata": {},
   "source": [
    "## Kids data for asthma discharges in Philadelphia county\n",
    "\n",
    "Here, we load the data from the PHC4 dataset. The data contains the number of asthma discharges in Philadelphia county for kids under 18 years of age. The data is loaded into a pandas dataframe and displayed. then, it is converted to a polars dataframe for further processing."
   ]
  },
  {
   "cell_type": "code",
   "execution_count": 5,
   "metadata": {},
   "outputs": [
    {
     "data": {
      "text/html": [
       "<div><style>\n",
       ".dataframe > thead > tr,\n",
       ".dataframe > tbody > tr {\n",
       "  text-align: right;\n",
       "  white-space: pre-wrap;\n",
       "}\n",
       "</style>\n",
       "<small>shape: (24, 14)</small><table border=\"1\" class=\"dataframe\"><thead><tr><th>TRatePercent</th><th>Health_Events</th><th>Geography</th><th>Calendar_Year</th><th>Gender</th><th>Race_Ethnicity</th><th>Age</th><th>Count</th><th>Population</th><th>DT_RATE</th><th>DT_LB</th><th>DT_UB1</th><th>Significance</th><th>Geography_Code</th></tr><tr><td>str</td><td>str</td><td>str</td><td>i64</td><td>str</td><td>str</td><td>str</td><td>str</td><td>str</td><td>str</td><td>f64</td><td>str</td><td>str</td><td>i64</td></tr></thead><tbody><tr><td>&quot;Crude/Age-Specific&nbsp;Rate&quot;</td><td>&quot;Asthma&quot;</td><td>&quot;Philadelphia&quot;</td><td>2023</td><td>&quot;Total&quot;</td><td>&quot;All&nbsp;Races&quot;</td><td>&quot;All&nbsp;Children&nbsp;(Age&nbsp;0-17)&quot;</td><td>&quot;1,251&quot;</td><td>&quot;330,745&quot;</td><td>&quot;378.2&quot;</td><td>357.3</td><td>&quot;399.2&quot;</td><td>&quot;+&quot;</td><td>101</td></tr><tr><td>&quot;Crude/Age-Specific&nbsp;Rate&quot;</td><td>&quot;Asthma&quot;</td><td>&quot;Philadelphia&quot;</td><td>2022</td><td>&quot;Total&quot;</td><td>&quot;All&nbsp;Races&quot;</td><td>&quot;All&nbsp;Children&nbsp;(Age&nbsp;0-17)&quot;</td><td>&quot;1,019&quot;</td><td>&quot;338,710&quot;</td><td>&quot;300.8&quot;</td><td>282.4</td><td>&quot;319.3&quot;</td><td>&quot;+&quot;</td><td>101</td></tr><tr><td>&quot;Crude/Age-Specific&nbsp;Rate&quot;</td><td>&quot;Asthma&quot;</td><td>&quot;Philadelphia&quot;</td><td>2021</td><td>&quot;Total&quot;</td><td>&quot;All&nbsp;Races&quot;</td><td>&quot;All&nbsp;Children&nbsp;(Age&nbsp;0-17)&quot;</td><td>&quot;734&quot;</td><td>&quot;343,517&quot;</td><td>&quot;213.7&quot;</td><td>198.2</td><td>&quot;229.1&quot;</td><td>&quot;+&quot;</td><td>101</td></tr><tr><td>&quot;Crude/Age-Specific&nbsp;Rate&quot;</td><td>&quot;Asthma&quot;</td><td>&quot;Philadelphia&quot;</td><td>2020</td><td>&quot;Total&quot;</td><td>&quot;All&nbsp;Races&quot;</td><td>&quot;All&nbsp;Children&nbsp;(Age&nbsp;0-17)&quot;</td><td>&quot;1200&quot;</td><td>&quot;347,602&quot;</td><td>&quot;175.8&quot;</td><td>161.8</td><td>&quot;189.7&quot;</td><td>&quot;+&quot;</td><td>101</td></tr><tr><td>&quot;Crude/Age-Specific&nbsp;Rate&quot;</td><td>&quot;Asthma&quot;</td><td>&quot;Philadelphia&quot;</td><td>2019</td><td>&quot;Total&quot;</td><td>&quot;All&nbsp;Races&quot;</td><td>&quot;All&nbsp;Children&nbsp;(Age&nbsp;0-17)&quot;</td><td>&quot;2042&quot;</td><td>&quot;341,496&quot;</td><td>&quot;422.3&quot;</td><td>400.5</td><td>&quot;444.1&quot;</td><td>&quot;+&quot;</td><td>101</td></tr><tr><td>&hellip;</td><td>&hellip;</td><td>&hellip;</td><td>&hellip;</td><td>&hellip;</td><td>&hellip;</td><td>&hellip;</td><td>&hellip;</td><td>&hellip;</td><td>&hellip;</td><td>&hellip;</td><td>&hellip;</td><td>&hellip;</td><td>&hellip;</td></tr><tr><td>&quot;Crude/Age-Specific&nbsp;Rate&quot;</td><td>&quot;Asthma&quot;</td><td>&quot;Philadelphia&quot;</td><td>2004</td><td>&quot;Total&quot;</td><td>&quot;All&nbsp;Races&quot;</td><td>&quot;All&nbsp;Children&nbsp;(Age&nbsp;0-17)&quot;</td><td>&quot;3,186&quot;</td><td>&quot;372,065&quot;</td><td>&quot;856.3&quot;</td><td>826.6</td><td>&quot;886.0&quot;</td><td>&quot;+&quot;</td><td>101</td></tr><tr><td>&quot;Crude/Age-Specific&nbsp;Rate&quot;</td><td>&quot;Asthma&quot;</td><td>&quot;Philadelphia&quot;</td><td>2003</td><td>&quot;Total&quot;</td><td>&quot;All&nbsp;Races&quot;</td><td>&quot;All&nbsp;Children&nbsp;(Age&nbsp;0-17)&quot;</td><td>&quot;3,723&quot;</td><td>&quot;377,212&quot;</td><td>&quot;987.0&quot;</td><td>955.3</td><td>&quot;1,018.7&quot;</td><td>&quot;+&quot;</td><td>101</td></tr><tr><td>&quot;Crude/Age-Specific&nbsp;Rate&quot;</td><td>&quot;Asthma&quot;</td><td>&quot;Philadelphia&quot;</td><td>2002</td><td>&quot;Total&quot;</td><td>&quot;All&nbsp;Races&quot;</td><td>&quot;All&nbsp;Children&nbsp;(Age&nbsp;0-17)&quot;</td><td>&quot;3,071&quot;</td><td>&quot;381,802&quot;</td><td>&quot;804.3&quot;</td><td>775.9</td><td>&quot;832.8&quot;</td><td>&quot;+&quot;</td><td>101</td></tr><tr><td>&quot;Crude/Age-Specific&nbsp;Rate&quot;</td><td>&quot;Asthma&quot;</td><td>&quot;Philadelphia&quot;</td><td>2001</td><td>&quot;Total&quot;</td><td>&quot;All&nbsp;Races&quot;</td><td>&quot;All&nbsp;Children&nbsp;(Age&nbsp;0-17)&quot;</td><td>&quot;3,337&quot;</td><td>&quot;381,190&quot;</td><td>&quot;875.4&quot;</td><td>845.7</td><td>&quot;905.1&quot;</td><td>&quot;+&quot;</td><td>101</td></tr><tr><td>&quot;Crude/Age-Specific&nbsp;Rate&quot;</td><td>&quot;Asthma&quot;</td><td>&quot;Philadelphia&quot;</td><td>2000</td><td>&quot;Total&quot;</td><td>&quot;All&nbsp;Races&quot;</td><td>&quot;All&nbsp;Children&nbsp;(Age&nbsp;0-17)&quot;</td><td>&quot;2,795&quot;</td><td>&quot;383,469&quot;</td><td>&quot;728.9&quot;</td><td>701.9</td><td>&quot;755.9&quot;</td><td>&quot;+&quot;</td><td>101</td></tr></tbody></table></div>"
      ],
      "text/plain": [
       "shape: (24, 14)\n",
       "┌────────────┬────────────┬────────────┬────────────┬───┬───────┬─────────┬────────────┬───────────┐\n",
       "│ TRatePerce ┆ Health_Eve ┆ Geography  ┆ Calendar_Y ┆ … ┆ DT_LB ┆ DT_UB1  ┆ Significan ┆ Geography │\n",
       "│ nt         ┆ nts        ┆ ---        ┆ ear        ┆   ┆ ---   ┆ ---     ┆ ce         ┆ _Code     │\n",
       "│ ---        ┆ ---        ┆ str        ┆ ---        ┆   ┆ f64   ┆ str     ┆ ---        ┆ ---       │\n",
       "│ str        ┆ str        ┆            ┆ i64        ┆   ┆       ┆         ┆ str        ┆ i64       │\n",
       "╞════════════╪════════════╪════════════╪════════════╪═══╪═══════╪═════════╪════════════╪═══════════╡\n",
       "│ Crude/Age- ┆ Asthma     ┆ Philadelph ┆ 2023       ┆ … ┆ 357.3 ┆ 399.2   ┆ +          ┆ 101       │\n",
       "│ Specific   ┆            ┆ ia         ┆            ┆   ┆       ┆         ┆            ┆           │\n",
       "│ Rate       ┆            ┆            ┆            ┆   ┆       ┆         ┆            ┆           │\n",
       "│ Crude/Age- ┆ Asthma     ┆ Philadelph ┆ 2022       ┆ … ┆ 282.4 ┆ 319.3   ┆ +          ┆ 101       │\n",
       "│ Specific   ┆            ┆ ia         ┆            ┆   ┆       ┆         ┆            ┆           │\n",
       "│ Rate       ┆            ┆            ┆            ┆   ┆       ┆         ┆            ┆           │\n",
       "│ Crude/Age- ┆ Asthma     ┆ Philadelph ┆ 2021       ┆ … ┆ 198.2 ┆ 229.1   ┆ +          ┆ 101       │\n",
       "│ Specific   ┆            ┆ ia         ┆            ┆   ┆       ┆         ┆            ┆           │\n",
       "│ Rate       ┆            ┆            ┆            ┆   ┆       ┆         ┆            ┆           │\n",
       "│ Crude/Age- ┆ Asthma     ┆ Philadelph ┆ 2020       ┆ … ┆ 161.8 ┆ 189.7   ┆ +          ┆ 101       │\n",
       "│ Specific   ┆            ┆ ia         ┆            ┆   ┆       ┆         ┆            ┆           │\n",
       "│ Rate       ┆            ┆            ┆            ┆   ┆       ┆         ┆            ┆           │\n",
       "│ Crude/Age- ┆ Asthma     ┆ Philadelph ┆ 2019       ┆ … ┆ 400.5 ┆ 444.1   ┆ +          ┆ 101       │\n",
       "│ Specific   ┆            ┆ ia         ┆            ┆   ┆       ┆         ┆            ┆           │\n",
       "│ Rate       ┆            ┆            ┆            ┆   ┆       ┆         ┆            ┆           │\n",
       "│ …          ┆ …          ┆ …          ┆ …          ┆ … ┆ …     ┆ …       ┆ …          ┆ …         │\n",
       "│ Crude/Age- ┆ Asthma     ┆ Philadelph ┆ 2004       ┆ … ┆ 826.6 ┆ 886.0   ┆ +          ┆ 101       │\n",
       "│ Specific   ┆            ┆ ia         ┆            ┆   ┆       ┆         ┆            ┆           │\n",
       "│ Rate       ┆            ┆            ┆            ┆   ┆       ┆         ┆            ┆           │\n",
       "│ Crude/Age- ┆ Asthma     ┆ Philadelph ┆ 2003       ┆ … ┆ 955.3 ┆ 1,018.7 ┆ +          ┆ 101       │\n",
       "│ Specific   ┆            ┆ ia         ┆            ┆   ┆       ┆         ┆            ┆           │\n",
       "│ Rate       ┆            ┆            ┆            ┆   ┆       ┆         ┆            ┆           │\n",
       "│ Crude/Age- ┆ Asthma     ┆ Philadelph ┆ 2002       ┆ … ┆ 775.9 ┆ 832.8   ┆ +          ┆ 101       │\n",
       "│ Specific   ┆            ┆ ia         ┆            ┆   ┆       ┆         ┆            ┆           │\n",
       "│ Rate       ┆            ┆            ┆            ┆   ┆       ┆         ┆            ┆           │\n",
       "│ Crude/Age- ┆ Asthma     ┆ Philadelph ┆ 2001       ┆ … ┆ 845.7 ┆ 905.1   ┆ +          ┆ 101       │\n",
       "│ Specific   ┆            ┆ ia         ┆            ┆   ┆       ┆         ┆            ┆           │\n",
       "│ Rate       ┆            ┆            ┆            ┆   ┆       ┆         ┆            ┆           │\n",
       "│ Crude/Age- ┆ Asthma     ┆ Philadelph ┆ 2000       ┆ … ┆ 701.9 ┆ 755.9   ┆ +          ┆ 101       │\n",
       "│ Specific   ┆            ┆ ia         ┆            ┆   ┆       ┆         ┆            ┆           │\n",
       "│ Rate       ┆            ┆            ┆            ┆   ┆       ┆         ┆            ┆           │\n",
       "└────────────┴────────────┴────────────┴────────────┴───┴───────┴─────────┴────────────┴───────────┘"
      ]
     },
     "execution_count": 5,
     "metadata": {},
     "output_type": "execute_result"
    }
   ],
   "source": [
    "#read csv file\n",
    "asthma_kids_discharges = pd.read_csv('initial data files/hospitalization Discharges Asthma kids per 100,000.csv')\n",
    "#convert to polars\n",
    "asthma_kids_discharges = pl.DataFrame(asthma_kids_discharges)\n",
    "asthma_kids_discharges"
   ]
  },
  {
   "cell_type": "markdown",
   "metadata": {},
   "source": [
    "Below, we convert the Year column to a datetime object and count and populations to int types"
   ]
  },
  {
   "cell_type": "code",
   "execution_count": 6,
   "metadata": {},
   "outputs": [
    {
     "data": {
      "text/html": [
       "<div><style>\n",
       ".dataframe > thead > tr,\n",
       ".dataframe > tbody > tr {\n",
       "  text-align: right;\n",
       "  white-space: pre-wrap;\n",
       "}\n",
       "</style>\n",
       "<small>shape: (24, 14)</small><table border=\"1\" class=\"dataframe\"><thead><tr><th>TRatePercent</th><th>Health_Events</th><th>Geography</th><th>Year</th><th>Gender</th><th>Race_Ethnicity</th><th>Age</th><th>Count</th><th>Population</th><th>DT_RATE</th><th>DT_LB</th><th>DT_UB1</th><th>Significance</th><th>Geography_Code</th></tr><tr><td>str</td><td>str</td><td>str</td><td>i64</td><td>str</td><td>str</td><td>str</td><td>i32</td><td>i32</td><td>str</td><td>f64</td><td>str</td><td>str</td><td>i64</td></tr></thead><tbody><tr><td>&quot;Crude/Age-Specific&nbsp;Rate&quot;</td><td>&quot;Asthma&quot;</td><td>&quot;Philadelphia&quot;</td><td>2023</td><td>&quot;Total&quot;</td><td>&quot;All&nbsp;Races&quot;</td><td>&quot;All&nbsp;Children&nbsp;(Age&nbsp;0-17)&quot;</td><td>1251</td><td>330745</td><td>&quot;378.2&quot;</td><td>357.3</td><td>&quot;399.2&quot;</td><td>&quot;+&quot;</td><td>101</td></tr><tr><td>&quot;Crude/Age-Specific&nbsp;Rate&quot;</td><td>&quot;Asthma&quot;</td><td>&quot;Philadelphia&quot;</td><td>2022</td><td>&quot;Total&quot;</td><td>&quot;All&nbsp;Races&quot;</td><td>&quot;All&nbsp;Children&nbsp;(Age&nbsp;0-17)&quot;</td><td>1019</td><td>338710</td><td>&quot;300.8&quot;</td><td>282.4</td><td>&quot;319.3&quot;</td><td>&quot;+&quot;</td><td>101</td></tr><tr><td>&quot;Crude/Age-Specific&nbsp;Rate&quot;</td><td>&quot;Asthma&quot;</td><td>&quot;Philadelphia&quot;</td><td>2021</td><td>&quot;Total&quot;</td><td>&quot;All&nbsp;Races&quot;</td><td>&quot;All&nbsp;Children&nbsp;(Age&nbsp;0-17)&quot;</td><td>734</td><td>343517</td><td>&quot;213.7&quot;</td><td>198.2</td><td>&quot;229.1&quot;</td><td>&quot;+&quot;</td><td>101</td></tr><tr><td>&quot;Crude/Age-Specific&nbsp;Rate&quot;</td><td>&quot;Asthma&quot;</td><td>&quot;Philadelphia&quot;</td><td>2020</td><td>&quot;Total&quot;</td><td>&quot;All&nbsp;Races&quot;</td><td>&quot;All&nbsp;Children&nbsp;(Age&nbsp;0-17)&quot;</td><td>1200</td><td>347602</td><td>&quot;175.8&quot;</td><td>161.8</td><td>&quot;189.7&quot;</td><td>&quot;+&quot;</td><td>101</td></tr><tr><td>&quot;Crude/Age-Specific&nbsp;Rate&quot;</td><td>&quot;Asthma&quot;</td><td>&quot;Philadelphia&quot;</td><td>2019</td><td>&quot;Total&quot;</td><td>&quot;All&nbsp;Races&quot;</td><td>&quot;All&nbsp;Children&nbsp;(Age&nbsp;0-17)&quot;</td><td>2042</td><td>341496</td><td>&quot;422.3&quot;</td><td>400.5</td><td>&quot;444.1&quot;</td><td>&quot;+&quot;</td><td>101</td></tr><tr><td>&hellip;</td><td>&hellip;</td><td>&hellip;</td><td>&hellip;</td><td>&hellip;</td><td>&hellip;</td><td>&hellip;</td><td>&hellip;</td><td>&hellip;</td><td>&hellip;</td><td>&hellip;</td><td>&hellip;</td><td>&hellip;</td><td>&hellip;</td></tr><tr><td>&quot;Crude/Age-Specific&nbsp;Rate&quot;</td><td>&quot;Asthma&quot;</td><td>&quot;Philadelphia&quot;</td><td>2004</td><td>&quot;Total&quot;</td><td>&quot;All&nbsp;Races&quot;</td><td>&quot;All&nbsp;Children&nbsp;(Age&nbsp;0-17)&quot;</td><td>3186</td><td>372065</td><td>&quot;856.3&quot;</td><td>826.6</td><td>&quot;886.0&quot;</td><td>&quot;+&quot;</td><td>101</td></tr><tr><td>&quot;Crude/Age-Specific&nbsp;Rate&quot;</td><td>&quot;Asthma&quot;</td><td>&quot;Philadelphia&quot;</td><td>2003</td><td>&quot;Total&quot;</td><td>&quot;All&nbsp;Races&quot;</td><td>&quot;All&nbsp;Children&nbsp;(Age&nbsp;0-17)&quot;</td><td>3723</td><td>377212</td><td>&quot;987.0&quot;</td><td>955.3</td><td>&quot;1,018.7&quot;</td><td>&quot;+&quot;</td><td>101</td></tr><tr><td>&quot;Crude/Age-Specific&nbsp;Rate&quot;</td><td>&quot;Asthma&quot;</td><td>&quot;Philadelphia&quot;</td><td>2002</td><td>&quot;Total&quot;</td><td>&quot;All&nbsp;Races&quot;</td><td>&quot;All&nbsp;Children&nbsp;(Age&nbsp;0-17)&quot;</td><td>3071</td><td>381802</td><td>&quot;804.3&quot;</td><td>775.9</td><td>&quot;832.8&quot;</td><td>&quot;+&quot;</td><td>101</td></tr><tr><td>&quot;Crude/Age-Specific&nbsp;Rate&quot;</td><td>&quot;Asthma&quot;</td><td>&quot;Philadelphia&quot;</td><td>2001</td><td>&quot;Total&quot;</td><td>&quot;All&nbsp;Races&quot;</td><td>&quot;All&nbsp;Children&nbsp;(Age&nbsp;0-17)&quot;</td><td>3337</td><td>381190</td><td>&quot;875.4&quot;</td><td>845.7</td><td>&quot;905.1&quot;</td><td>&quot;+&quot;</td><td>101</td></tr><tr><td>&quot;Crude/Age-Specific&nbsp;Rate&quot;</td><td>&quot;Asthma&quot;</td><td>&quot;Philadelphia&quot;</td><td>2000</td><td>&quot;Total&quot;</td><td>&quot;All&nbsp;Races&quot;</td><td>&quot;All&nbsp;Children&nbsp;(Age&nbsp;0-17)&quot;</td><td>2795</td><td>383469</td><td>&quot;728.9&quot;</td><td>701.9</td><td>&quot;755.9&quot;</td><td>&quot;+&quot;</td><td>101</td></tr></tbody></table></div>"
      ],
      "text/plain": [
       "shape: (24, 14)\n",
       "┌─────────────┬─────────────┬─────────────┬──────┬───┬───────┬─────────┬─────────────┬─────────────┐\n",
       "│ TRatePercen ┆ Health_Even ┆ Geography   ┆ Year ┆ … ┆ DT_LB ┆ DT_UB1  ┆ Significanc ┆ Geography_C │\n",
       "│ t           ┆ ts          ┆ ---         ┆ ---  ┆   ┆ ---   ┆ ---     ┆ e           ┆ ode         │\n",
       "│ ---         ┆ ---         ┆ str         ┆ i64  ┆   ┆ f64   ┆ str     ┆ ---         ┆ ---         │\n",
       "│ str         ┆ str         ┆             ┆      ┆   ┆       ┆         ┆ str         ┆ i64         │\n",
       "╞═════════════╪═════════════╪═════════════╪══════╪═══╪═══════╪═════════╪═════════════╪═════════════╡\n",
       "│ Crude/Age-S ┆ Asthma      ┆ Philadelphi ┆ 2023 ┆ … ┆ 357.3 ┆ 399.2   ┆ +           ┆ 101         │\n",
       "│ pecific     ┆             ┆ a           ┆      ┆   ┆       ┆         ┆             ┆             │\n",
       "│ Rate        ┆             ┆             ┆      ┆   ┆       ┆         ┆             ┆             │\n",
       "│ Crude/Age-S ┆ Asthma      ┆ Philadelphi ┆ 2022 ┆ … ┆ 282.4 ┆ 319.3   ┆ +           ┆ 101         │\n",
       "│ pecific     ┆             ┆ a           ┆      ┆   ┆       ┆         ┆             ┆             │\n",
       "│ Rate        ┆             ┆             ┆      ┆   ┆       ┆         ┆             ┆             │\n",
       "│ Crude/Age-S ┆ Asthma      ┆ Philadelphi ┆ 2021 ┆ … ┆ 198.2 ┆ 229.1   ┆ +           ┆ 101         │\n",
       "│ pecific     ┆             ┆ a           ┆      ┆   ┆       ┆         ┆             ┆             │\n",
       "│ Rate        ┆             ┆             ┆      ┆   ┆       ┆         ┆             ┆             │\n",
       "│ Crude/Age-S ┆ Asthma      ┆ Philadelphi ┆ 2020 ┆ … ┆ 161.8 ┆ 189.7   ┆ +           ┆ 101         │\n",
       "│ pecific     ┆             ┆ a           ┆      ┆   ┆       ┆         ┆             ┆             │\n",
       "│ Rate        ┆             ┆             ┆      ┆   ┆       ┆         ┆             ┆             │\n",
       "│ Crude/Age-S ┆ Asthma      ┆ Philadelphi ┆ 2019 ┆ … ┆ 400.5 ┆ 444.1   ┆ +           ┆ 101         │\n",
       "│ pecific     ┆             ┆ a           ┆      ┆   ┆       ┆         ┆             ┆             │\n",
       "│ Rate        ┆             ┆             ┆      ┆   ┆       ┆         ┆             ┆             │\n",
       "│ …           ┆ …           ┆ …           ┆ …    ┆ … ┆ …     ┆ …       ┆ …           ┆ …           │\n",
       "│ Crude/Age-S ┆ Asthma      ┆ Philadelphi ┆ 2004 ┆ … ┆ 826.6 ┆ 886.0   ┆ +           ┆ 101         │\n",
       "│ pecific     ┆             ┆ a           ┆      ┆   ┆       ┆         ┆             ┆             │\n",
       "│ Rate        ┆             ┆             ┆      ┆   ┆       ┆         ┆             ┆             │\n",
       "│ Crude/Age-S ┆ Asthma      ┆ Philadelphi ┆ 2003 ┆ … ┆ 955.3 ┆ 1,018.7 ┆ +           ┆ 101         │\n",
       "│ pecific     ┆             ┆ a           ┆      ┆   ┆       ┆         ┆             ┆             │\n",
       "│ Rate        ┆             ┆             ┆      ┆   ┆       ┆         ┆             ┆             │\n",
       "│ Crude/Age-S ┆ Asthma      ┆ Philadelphi ┆ 2002 ┆ … ┆ 775.9 ┆ 832.8   ┆ +           ┆ 101         │\n",
       "│ pecific     ┆             ┆ a           ┆      ┆   ┆       ┆         ┆             ┆             │\n",
       "│ Rate        ┆             ┆             ┆      ┆   ┆       ┆         ┆             ┆             │\n",
       "│ Crude/Age-S ┆ Asthma      ┆ Philadelphi ┆ 2001 ┆ … ┆ 845.7 ┆ 905.1   ┆ +           ┆ 101         │\n",
       "│ pecific     ┆             ┆ a           ┆      ┆   ┆       ┆         ┆             ┆             │\n",
       "│ Rate        ┆             ┆             ┆      ┆   ┆       ┆         ┆             ┆             │\n",
       "│ Crude/Age-S ┆ Asthma      ┆ Philadelphi ┆ 2000 ┆ … ┆ 701.9 ┆ 755.9   ┆ +           ┆ 101         │\n",
       "│ pecific     ┆             ┆ a           ┆      ┆   ┆       ┆         ┆             ┆             │\n",
       "│ Rate        ┆             ┆             ┆      ┆   ┆       ┆         ┆             ┆             │\n",
       "└─────────────┴─────────────┴─────────────┴──────┴───┴───────┴─────────┴─────────────┴─────────────┘"
      ]
     },
     "execution_count": 6,
     "metadata": {},
     "output_type": "execute_result"
    }
   ],
   "source": [
    "asthma_kids_discharges = (\n",
    "    asthma_kids_discharges\n",
    "    .rename(\n",
    "        {\"Calendar_Year\": \"Year\"}\n",
    "        )\n",
    "    .with_columns(\n",
    "        pl.col('Count').str.replace(',', '').cast(pl.Int32).alias('Count'),\n",
    "        pl.col('Population').str.replace(',', '').cast(pl.Int32).alias('Population')\n",
    "    )\n",
    ")\n",
    "asthma_kids_discharges"
   ]
  },
  {
   "cell_type": "markdown",
   "metadata": {},
   "source": [
    "Here, we get the number of asthma discharges for kids under 18 years of age in Philedelphia county per 100000 people."
   ]
  },
  {
   "cell_type": "code",
   "execution_count": 7,
   "metadata": {},
   "outputs": [
    {
     "data": {
      "text/html": [
       "<div><style>\n",
       ".dataframe > thead > tr,\n",
       ".dataframe > tbody > tr {\n",
       "  text-align: right;\n",
       "  white-space: pre-wrap;\n",
       "}\n",
       "</style>\n",
       "<small>shape: (24, 4)</small><table border=\"1\" class=\"dataframe\"><thead><tr><th>Year</th><th>Count</th><th>Population</th><th>discharges per 100000</th></tr><tr><td>i64</td><td>i32</td><td>i32</td><td>f64</td></tr></thead><tbody><tr><td>2023</td><td>1251</td><td>330745</td><td>378.23701</td></tr><tr><td>2022</td><td>1019</td><td>338710</td><td>300.847333</td></tr><tr><td>2021</td><td>734</td><td>343517</td><td>213.672104</td></tr><tr><td>2020</td><td>1200</td><td>347602</td><td>345.22241</td></tr><tr><td>2019</td><td>2042</td><td>341496</td><td>597.957224</td></tr><tr><td>&hellip;</td><td>&hellip;</td><td>&hellip;</td><td>&hellip;</td></tr><tr><td>2004</td><td>3186</td><td>372065</td><td>856.30199</td></tr><tr><td>2003</td><td>3723</td><td>377212</td><td>986.978145</td></tr><tr><td>2002</td><td>3071</td><td>381802</td><td>804.343613</td></tr><tr><td>2001</td><td>3337</td><td>381190</td><td>875.416459</td></tr><tr><td>2000</td><td>2795</td><td>383469</td><td>728.872477</td></tr></tbody></table></div>"
      ],
      "text/plain": [
       "shape: (24, 4)\n",
       "┌──────┬───────┬────────────┬───────────────────────┐\n",
       "│ Year ┆ Count ┆ Population ┆ discharges per 100000 │\n",
       "│ ---  ┆ ---   ┆ ---        ┆ ---                   │\n",
       "│ i64  ┆ i32   ┆ i32        ┆ f64                   │\n",
       "╞══════╪═══════╪════════════╪═══════════════════════╡\n",
       "│ 2023 ┆ 1251  ┆ 330745     ┆ 378.23701             │\n",
       "│ 2022 ┆ 1019  ┆ 338710     ┆ 300.847333            │\n",
       "│ 2021 ┆ 734   ┆ 343517     ┆ 213.672104            │\n",
       "│ 2020 ┆ 1200  ┆ 347602     ┆ 345.22241             │\n",
       "│ 2019 ┆ 2042  ┆ 341496     ┆ 597.957224            │\n",
       "│ …    ┆ …     ┆ …          ┆ …                     │\n",
       "│ 2004 ┆ 3186  ┆ 372065     ┆ 856.30199             │\n",
       "│ 2003 ┆ 3723  ┆ 377212     ┆ 986.978145            │\n",
       "│ 2002 ┆ 3071  ┆ 381802     ┆ 804.343613            │\n",
       "│ 2001 ┆ 3337  ┆ 381190     ┆ 875.416459            │\n",
       "│ 2000 ┆ 2795  ┆ 383469     ┆ 728.872477            │\n",
       "└──────┴───────┴────────────┴───────────────────────┘"
      ]
     },
     "execution_count": 7,
     "metadata": {},
     "output_type": "execute_result"
    }
   ],
   "source": [
    "#get deaths per 100000 people\n",
    "asthma_kids_discharges_100000 = (\n",
    "    asthma_kids_discharges\n",
    "    .with_columns(\n",
    "        (   pl.col(\"Count\").cast(pl.Int64) / pl.col('Population').cast(pl.Int64) * 100000).alias('discharges per 100000')\n",
    "    )\n",
    "    .select(\n",
    "        'Year', 'Count','Population','discharges per 100000'\n",
    "    )\n",
    ")\n",
    "asthma_kids_discharges_100000"
   ]
  },
  {
   "cell_type": "markdown",
   "metadata": {},
   "source": [
    "## Asthma related deaths in Philadelphia county all ages\n",
    "\n",
    "Here, we load the data from the CDC wonder dataset. The data contains the number of deaths due to asthma in Philadelphia county. The data is loaded into a pandas dataframe and displayed. then, it is converted to a polars dataframe for further processing."
   ]
  },
  {
   "cell_type": "code",
   "execution_count": 15,
   "metadata": {},
   "outputs": [
    {
     "data": {
      "text/plain": [
       "[]"
      ]
     },
     "execution_count": 15,
     "metadata": {},
     "output_type": "execute_result"
    },
    {
     "data": {
      "image/png": "[encoded data removed]",
      "text/plain": [
       "<Figure size 1200x500 with 1 Axes>"
      ]
     },
     "metadata": {},
     "output_type": "display_data"
    }
   ],
   "source": [
    "death_by_age = pd.read_csv(\"initial data files/death asthma by. age.txt\", sep=\"\\t\")\n",
    "death_by_age\n",
    "\n",
    "plt.figure(figsize=(12, 5))\n",
    "plt.bar(death_by_age[\"Five-Year Age Groups Code\"], death_by_age[\"Deaths\"])\n",
    "plt.xlabel(\"Age Group\")\n",
    "plt.ylabel(\"Number of Deaths\")\n",
    "plt.title(\"Number of Deaths by Age Group\")\n",
    "plt.xticks(rotation=90)\n",
    "\n",
    "plt.plot()"
   ]
  },
  {
   "cell_type": "markdown",
   "metadata": {},
   "source": [
    "Here we see that the "
   ]
  },
  {
   "cell_type": "code",
   "execution_count": 16,
   "metadata": {},
   "outputs": [],
   "source": [
    "death_file = pd.read_csv(\"initial data files/Asthma_deaths_cdc.txt\", sep=\"\\t\", index_col=\"Year\")"
   ]
  },
  {
   "cell_type": "code",
   "execution_count": 17,
   "metadata": {},
   "outputs": [
    {
     "data": {
      "text/html": [
       "<div>\n",
       "<style scoped>\n",
       "    .dataframe tbody tr th:only-of-type {\n",
       "        vertical-align: middle;\n",
       "    }\n",
       "\n",
       "    .dataframe tbody tr th {\n",
       "        vertical-align: top;\n",
       "    }\n",
       "\n",
       "    .dataframe thead th {\n",
       "        text-align: right;\n",
       "    }\n",
       "</style>\n",
       "<table border=\"1\" class=\"dataframe\">\n",
       "  <thead>\n",
       "    <tr style=\"text-align: right;\">\n",
       "      <th></th>\n",
       "      <th>Notes</th>\n",
       "      <th>Year Code</th>\n",
       "      <th>Multiple Cause of death</th>\n",
       "      <th>Multiple Cause of death Code</th>\n",
       "      <th>Deaths</th>\n",
       "      <th>Population</th>\n",
       "      <th>Crude Rate</th>\n",
       "    </tr>\n",
       "    <tr>\n",
       "      <th>Year</th>\n",
       "      <th></th>\n",
       "      <th></th>\n",
       "      <th></th>\n",
       "      <th></th>\n",
       "      <th></th>\n",
       "      <th></th>\n",
       "      <th></th>\n",
       "    </tr>\n",
       "  </thead>\n",
       "  <tbody>\n",
       "    <tr>\n",
       "      <th>1999</th>\n",
       "      <td>NaN</td>\n",
       "      <td>1999</td>\n",
       "      <td>Asthma, unspecified</td>\n",
       "      <td>J45.9</td>\n",
       "      <td>61</td>\n",
       "      <td>1520064</td>\n",
       "      <td>4.0</td>\n",
       "    </tr>\n",
       "    <tr>\n",
       "      <th>2000</th>\n",
       "      <td>NaN</td>\n",
       "      <td>2000</td>\n",
       "      <td>Asthma, unspecified</td>\n",
       "      <td>J45.9</td>\n",
       "      <td>73</td>\n",
       "      <td>1517550</td>\n",
       "      <td>4.8</td>\n",
       "    </tr>\n",
       "    <tr>\n",
       "      <th>2001</th>\n",
       "      <td>NaN</td>\n",
       "      <td>2001</td>\n",
       "      <td>Asthma, unspecified</td>\n",
       "      <td>J45.9</td>\n",
       "      <td>69</td>\n",
       "      <td>1505455</td>\n",
       "      <td>4.6</td>\n",
       "    </tr>\n",
       "    <tr>\n",
       "      <th>2002</th>\n",
       "      <td>NaN</td>\n",
       "      <td>2002</td>\n",
       "      <td>Asthma, unspecified</td>\n",
       "      <td>J45.9</td>\n",
       "      <td>76</td>\n",
       "      <td>1498493</td>\n",
       "      <td>5.1</td>\n",
       "    </tr>\n",
       "    <tr>\n",
       "      <th>2003</th>\n",
       "      <td>NaN</td>\n",
       "      <td>2003</td>\n",
       "      <td>Asthma, unspecified</td>\n",
       "      <td>J45.9</td>\n",
       "      <td>87</td>\n",
       "      <td>1493802</td>\n",
       "      <td>5.8</td>\n",
       "    </tr>\n",
       "    <tr>\n",
       "      <th>2004</th>\n",
       "      <td>NaN</td>\n",
       "      <td>2004</td>\n",
       "      <td>Asthma, unspecified</td>\n",
       "      <td>J45.9</td>\n",
       "      <td>55</td>\n",
       "      <td>1492882</td>\n",
       "      <td>3.7</td>\n",
       "    </tr>\n",
       "    <tr>\n",
       "      <th>2005</th>\n",
       "      <td>NaN</td>\n",
       "      <td>2005</td>\n",
       "      <td>Asthma, unspecified</td>\n",
       "      <td>J45.9</td>\n",
       "      <td>55</td>\n",
       "      <td>1490861</td>\n",
       "      <td>3.7</td>\n",
       "    </tr>\n",
       "    <tr>\n",
       "      <th>2006</th>\n",
       "      <td>NaN</td>\n",
       "      <td>2006</td>\n",
       "      <td>Asthma, unspecified</td>\n",
       "      <td>J45.9</td>\n",
       "      <td>62</td>\n",
       "      <td>1488710</td>\n",
       "      <td>4.2</td>\n",
       "    </tr>\n",
       "    <tr>\n",
       "      <th>2007</th>\n",
       "      <td>NaN</td>\n",
       "      <td>2007</td>\n",
       "      <td>Asthma, unspecified</td>\n",
       "      <td>J45.9</td>\n",
       "      <td>58</td>\n",
       "      <td>1493309</td>\n",
       "      <td>3.9</td>\n",
       "    </tr>\n",
       "    <tr>\n",
       "      <th>2008</th>\n",
       "      <td>NaN</td>\n",
       "      <td>2008</td>\n",
       "      <td>Asthma, unspecified</td>\n",
       "      <td>J45.9</td>\n",
       "      <td>82</td>\n",
       "      <td>1499731</td>\n",
       "      <td>5.5</td>\n",
       "    </tr>\n",
       "    <tr>\n",
       "      <th>2009</th>\n",
       "      <td>NaN</td>\n",
       "      <td>2009</td>\n",
       "      <td>Asthma, unspecified</td>\n",
       "      <td>J45.9</td>\n",
       "      <td>66</td>\n",
       "      <td>1514694</td>\n",
       "      <td>4.4</td>\n",
       "    </tr>\n",
       "    <tr>\n",
       "      <th>2010</th>\n",
       "      <td>NaN</td>\n",
       "      <td>2010</td>\n",
       "      <td>Asthma, unspecified</td>\n",
       "      <td>J45.9</td>\n",
       "      <td>53</td>\n",
       "      <td>1526006</td>\n",
       "      <td>3.5</td>\n",
       "    </tr>\n",
       "    <tr>\n",
       "      <th>2011</th>\n",
       "      <td>NaN</td>\n",
       "      <td>2011</td>\n",
       "      <td>Asthma, unspecified</td>\n",
       "      <td>J45.9</td>\n",
       "      <td>68</td>\n",
       "      <td>1536471</td>\n",
       "      <td>4.4</td>\n",
       "    </tr>\n",
       "    <tr>\n",
       "      <th>2012</th>\n",
       "      <td>NaN</td>\n",
       "      <td>2012</td>\n",
       "      <td>Asthma, unspecified</td>\n",
       "      <td>J45.9</td>\n",
       "      <td>61</td>\n",
       "      <td>1547607</td>\n",
       "      <td>3.9</td>\n",
       "    </tr>\n",
       "    <tr>\n",
       "      <th>2013</th>\n",
       "      <td>NaN</td>\n",
       "      <td>2013</td>\n",
       "      <td>Asthma, unspecified</td>\n",
       "      <td>J45.9</td>\n",
       "      <td>59</td>\n",
       "      <td>1553165</td>\n",
       "      <td>3.8</td>\n",
       "    </tr>\n",
       "    <tr>\n",
       "      <th>2014</th>\n",
       "      <td>NaN</td>\n",
       "      <td>2014</td>\n",
       "      <td>Asthma, unspecified</td>\n",
       "      <td>J45.9</td>\n",
       "      <td>63</td>\n",
       "      <td>1560297</td>\n",
       "      <td>4.0</td>\n",
       "    </tr>\n",
       "    <tr>\n",
       "      <th>2015</th>\n",
       "      <td>NaN</td>\n",
       "      <td>2015</td>\n",
       "      <td>Asthma, unspecified</td>\n",
       "      <td>J45.9</td>\n",
       "      <td>69</td>\n",
       "      <td>1567442</td>\n",
       "      <td>4.4</td>\n",
       "    </tr>\n",
       "    <tr>\n",
       "      <th>2016</th>\n",
       "      <td>NaN</td>\n",
       "      <td>2016</td>\n",
       "      <td>Asthma, unspecified</td>\n",
       "      <td>J45.9</td>\n",
       "      <td>44</td>\n",
       "      <td>1567872</td>\n",
       "      <td>2.8</td>\n",
       "    </tr>\n",
       "    <tr>\n",
       "      <th>2017</th>\n",
       "      <td>NaN</td>\n",
       "      <td>2017</td>\n",
       "      <td>Asthma, unspecified</td>\n",
       "      <td>J45.9</td>\n",
       "      <td>52</td>\n",
       "      <td>1580863</td>\n",
       "      <td>3.3</td>\n",
       "    </tr>\n",
       "    <tr>\n",
       "      <th>2018</th>\n",
       "      <td>NaN</td>\n",
       "      <td>2018</td>\n",
       "      <td>Asthma, unspecified</td>\n",
       "      <td>J45.9</td>\n",
       "      <td>48</td>\n",
       "      <td>1584138</td>\n",
       "      <td>3.0</td>\n",
       "    </tr>\n",
       "    <tr>\n",
       "      <th>2019</th>\n",
       "      <td>NaN</td>\n",
       "      <td>2019</td>\n",
       "      <td>Asthma, unspecified</td>\n",
       "      <td>J45.9</td>\n",
       "      <td>63</td>\n",
       "      <td>1584064</td>\n",
       "      <td>4.0</td>\n",
       "    </tr>\n",
       "    <tr>\n",
       "      <th>2020</th>\n",
       "      <td>NaN</td>\n",
       "      <td>2020</td>\n",
       "      <td>Asthma, unspecified</td>\n",
       "      <td>J45.9</td>\n",
       "      <td>104</td>\n",
       "      <td>1578487</td>\n",
       "      <td>6.6</td>\n",
       "    </tr>\n",
       "  </tbody>\n",
       "</table>\n",
       "</div>"
      ],
      "text/plain": [
       "      Notes  Year Code Multiple Cause of death Multiple Cause of death Code  \\\n",
       "Year                                                                          \n",
       "1999    NaN       1999     Asthma, unspecified                        J45.9   \n",
       "2000    NaN       2000     Asthma, unspecified                        J45.9   \n",
       "2001    NaN       2001     Asthma, unspecified                        J45.9   \n",
       "2002    NaN       2002     Asthma, unspecified                        J45.9   \n",
       "2003    NaN       2003     Asthma, unspecified                        J45.9   \n",
       "2004    NaN       2004     Asthma, unspecified                        J45.9   \n",
       "2005    NaN       2005     Asthma, unspecified                        J45.9   \n",
       "2006    NaN       2006     Asthma, unspecified                        J45.9   \n",
       "2007    NaN       2007     Asthma, unspecified                        J45.9   \n",
       "2008    NaN       2008     Asthma, unspecified                        J45.9   \n",
       "2009    NaN       2009     Asthma, unspecified                        J45.9   \n",
       "2010    NaN       2010     Asthma, unspecified                        J45.9   \n",
       "2011    NaN       2011     Asthma, unspecified                        J45.9   \n",
       "2012    NaN       2012     Asthma, unspecified                        J45.9   \n",
       "2013    NaN       2013     Asthma, unspecified                        J45.9   \n",
       "2014    NaN       2014     Asthma, unspecified                        J45.9   \n",
       "2015    NaN       2015     Asthma, unspecified                        J45.9   \n",
       "2016    NaN       2016     Asthma, unspecified                        J45.9   \n",
       "2017    NaN       2017     Asthma, unspecified                        J45.9   \n",
       "2018    NaN       2018     Asthma, unspecified                        J45.9   \n",
       "2019    NaN       2019     Asthma, unspecified                        J45.9   \n",
       "2020    NaN       2020     Asthma, unspecified                        J45.9   \n",
       "\n",
       "      Deaths  Population  Crude Rate  \n",
       "Year                                  \n",
       "1999      61     1520064         4.0  \n",
       "2000      73     1517550         4.8  \n",
       "2001      69     1505455         4.6  \n",
       "2002      76     1498493         5.1  \n",
       "2003      87     1493802         5.8  \n",
       "2004      55     1492882         3.7  \n",
       "2005      55     1490861         3.7  \n",
       "2006      62     1488710         4.2  \n",
       "2007      58     1493309         3.9  \n",
       "2008      82     1499731         5.5  \n",
       "2009      66     1514694         4.4  \n",
       "2010      53     1526006         3.5  \n",
       "2011      68     1536471         4.4  \n",
       "2012      61     1547607         3.9  \n",
       "2013      59     1553165         3.8  \n",
       "2014      63     1560297         4.0  \n",
       "2015      69     1567442         4.4  \n",
       "2016      44     1567872         2.8  \n",
       "2017      52     1580863         3.3  \n",
       "2018      48     1584138         3.0  \n",
       "2019      63     1584064         4.0  \n",
       "2020     104     1578487         6.6  "
      ]
     },
     "execution_count": 17,
     "metadata": {},
     "output_type": "execute_result"
    }
   ],
   "source": [
    "death_file"
   ]
  },
  {
   "cell_type": "markdown",
   "metadata": {},
   "source": [
    "Plotting deaths per yeear"
   ]
  },
  {
   "cell_type": "code",
   "execution_count": 18,
   "metadata": {},
   "outputs": [
    {
     "data": {
      "text/plain": [
       "[<matplotlib.lines.Line2D at 0x12eadfa10>]"
      ]
     },
     "execution_count": 18,
     "metadata": {},
     "output_type": "execute_result"
    },
    {
     "data": {
      "image/png": "[encoded data removed]",
      "text/plain": [
       "<Figure size 640x480 with 1 Axes>"
      ]
     },
     "metadata": {},
     "output_type": "display_data"
    }
   ],
   "source": [
    "plt.plot(death_file[\"Deaths\"])"
   ]
  },
  {
   "cell_type": "markdown",
   "metadata": {},
   "source": [
    "## Smoke impact (past + predicted) calculated in part 1\n",
    "\n",
    "Here, we take the data from the previous notebook and merge the past and forecasts to create one dataset"
   ]
  },
  {
   "cell_type": "code",
   "execution_count": 19,
   "metadata": {},
   "outputs": [
    {
     "data": {
      "text/html": [
       "<div>\n",
       "<style scoped>\n",
       "    .dataframe tbody tr th:only-of-type {\n",
       "        vertical-align: middle;\n",
       "    }\n",
       "\n",
       "    .dataframe tbody tr th {\n",
       "        vertical-align: top;\n",
       "    }\n",
       "\n",
       "    .dataframe thead th {\n",
       "        text-align: right;\n",
       "    }\n",
       "</style>\n",
       "<table border=\"1\" class=\"dataframe\">\n",
       "  <thead>\n",
       "    <tr style=\"text-align: right;\">\n",
       "      <th></th>\n",
       "      <th>Fire_Year</th>\n",
       "      <th>smoke_metric</th>\n",
       "    </tr>\n",
       "  </thead>\n",
       "  <tbody>\n",
       "    <tr>\n",
       "      <th>0</th>\n",
       "      <td>1962</td>\n",
       "      <td>34.081084</td>\n",
       "    </tr>\n",
       "    <tr>\n",
       "      <th>1</th>\n",
       "      <td>1963</td>\n",
       "      <td>13.071290</td>\n",
       "    </tr>\n",
       "    <tr>\n",
       "      <th>2</th>\n",
       "      <td>1964</td>\n",
       "      <td>0.695634</td>\n",
       "    </tr>\n",
       "    <tr>\n",
       "      <th>3</th>\n",
       "      <td>1965</td>\n",
       "      <td>0.538599</td>\n",
       "    </tr>\n",
       "    <tr>\n",
       "      <th>4</th>\n",
       "      <td>1966</td>\n",
       "      <td>0.276700</td>\n",
       "    </tr>\n",
       "  </tbody>\n",
       "</table>\n",
       "</div>"
      ],
      "text/plain": [
       "   Fire_Year  smoke_metric\n",
       "0       1962     34.081084\n",
       "1       1963     13.071290\n",
       "2       1964      0.695634\n",
       "3       1965      0.538599\n",
       "4       1966      0.276700"
      ]
     },
     "execution_count": 19,
     "metadata": {},
     "output_type": "execute_result"
    }
   ],
   "source": [
    "smoke_metric = pd.read_csv(\"intermediate data files/smoke_metric_historical.csv\")\n",
    "smoke_metric.head()"
   ]
  },
  {
   "cell_type": "code",
   "execution_count": 20,
   "metadata": {},
   "outputs": [],
   "source": [
    "smoke_pl = pl.DataFrame(smoke_metric)\n",
    "smoke_pl_filtered = smoke_pl.filter(pl.col(\"Fire_Year\") > 1998)"
   ]
  },
  {
   "cell_type": "code",
   "execution_count": 21,
   "metadata": {},
   "outputs": [
    {
     "data": {
      "image/png": "[encoded data removed]",
      "text/plain": [
       "<Figure size 1200x500 with 1 Axes>"
      ]
     },
     "metadata": {},
     "output_type": "display_data"
    },
    {
     "data": {
      "image/png": "[encoded data removed]",
      "text/plain": [
       "<Figure size 1200x500 with 2 Axes>"
      ]
     },
     "metadata": {},
     "output_type": "display_data"
    }
   ],
   "source": [
    "#plot size\n",
    "plt.figure(figsize=(12, 5))\n",
    "\n",
    "plt.plot(death_file[\"Deaths\"][:-1]*1000000/death_file[\"Population\"][:-1], color=\"red\", label=\"Asthma related Deaths per 100000\")\n",
    "plt.plot(smoke_pl_filtered[\"Fire_Year\"][1:-1], smoke_pl_filtered[\"smoke_metric\"][:-2], color=\"blue\", label=\"Smoke Metric\")\n",
    "plt.legend()\n",
    "\n",
    "#plot size\n",
    "\n",
    "fig, ax1 = plt.subplots(figsize=(12, 5))\n",
    "\n",
    "ax1.plot(death_file[\"Deaths\"][:-1]*1000000/death_file[\"Population\"][:-1], color=\"blue\")\n",
    "ax1.set_ylabel('Asthma related Deaths per 100000', color='blue')\n",
    "ax1.set_xlabel('Year')\n",
    "ax1.set_title('Asthma related Deaths per 100000 and Smoke Metric')\n",
    "#year values on x-axis only every 5 years\n",
    "plt.xticks(np.arange(1999, 2021, 5))\n",
    "\n",
    "# Create second y-axis\n",
    "ax2 = ax1.twinx()\n",
    "\n",
    "# Plot the second dataset on the right y-axis\n",
    "ax2.plot(smoke_pl_filtered[\"Fire_Year\"][1:-1], smoke_pl_filtered[\"smoke_metric\"][:-2], color=\"red\")\n",
    "ax1.plot(smoke_pl_filtered[\"Fire_Year\"][1:-1], smoke_pl_filtered[\"smoke_metric\"][:-2], color=\"red\")\n",
    "\n",
    "ax2.set_ylabel('Smoke Metric', color='red')\n",
    "\n",
    "# Show the plot\n",
    "\n",
    "plt.xlabel(\"Year\")\n",
    "\n",
    "plt.show()"
   ]
  },
  {
   "cell_type": "markdown",
   "metadata": {},
   "source": [
    "Plotting asthma death in the smoke metric we see that there is a good visual correlation between both of them. Dismiss the good trains and forecasting asthma in the future, using smoke metric would be a good idea."
   ]
  },
  {
   "cell_type": "code",
   "execution_count": 22,
   "metadata": {},
   "outputs": [],
   "source": [
    "smoke_indexed = smoke_pl_filtered.to_pandas().set_index('Fire_Year')"
   ]
  },
  {
   "cell_type": "markdown",
   "metadata": {},
   "source": [
    "There seem to be some Correlation between the lagged Smoke me the number of Asthma deaths. Hence, we shift the smoke by one year."
   ]
  },
  {
   "cell_type": "code",
   "execution_count": 23,
   "metadata": {},
   "outputs": [],
   "source": [
    "#correlation in python\n",
    "import scipy.stats\n",
    "correlation_coefficient, p_value = scipy.stats.pearsonr(death_file[\"Deaths\"][1:-1]*1000000/death_file[\"Population\"][1:-1], smoke_pl_filtered[\"smoke_metric\"][:-2])\n"
   ]
  },
  {
   "cell_type": "code",
   "execution_count": 24,
   "metadata": {},
   "outputs": [
    {
     "data": {
      "text/plain": [
       "np.float64(0.4956437698771349)"
      ]
     },
     "execution_count": 24,
     "metadata": {},
     "output_type": "execute_result"
    }
   ],
   "source": [
    "correlation_coefficient"
   ]
  },
  {
   "cell_type": "code",
   "execution_count": 25,
   "metadata": {},
   "outputs": [
    {
     "data": {
      "text/plain": [
       "np.float64(0.02625970326414106)"
      ]
     },
     "execution_count": 25,
     "metadata": {},
     "output_type": "execute_result"
    }
   ],
   "source": [
    "p_value"
   ]
  },
  {
   "cell_type": "markdown",
   "metadata": {},
   "source": [
    "A correlation of around the .5 is observed between the two datasets. Value of 0.026 shows that this is indeed Statistically significant value"
   ]
  },
  {
   "cell_type": "markdown",
   "metadata": {},
   "source": [
    "My p-value cut off is: p-value is less than 0.05 -> significant result"
   ]
  },
  {
   "cell_type": "code",
   "execution_count": 26,
   "metadata": {},
   "outputs": [],
   "source": [
    "death_file[\"death_per_million\"] = death_file[\"Deaths\"]*1000000/death_file[\"Population\"]\n",
    "death_file.reset_index(inplace=True)\n",
    "death_fin_pd = death_file[['Year', 'Deaths']]"
   ]
  },
  {
   "cell_type": "code",
   "execution_count": 27,
   "metadata": {},
   "outputs": [],
   "source": [
    "smoke_indexed = smoke_pl_filtered.to_pandas().set_index('Fire_Year', inplace=True)"
   ]
  },
  {
   "cell_type": "code",
   "execution_count": 28,
   "metadata": {},
   "outputs": [],
   "source": [
    "forcasted_smoke = pl.read_csv(\"intermediate data files/forecasted_smoke_impact.csv\")"
   ]
  },
  {
   "cell_type": "markdown",
   "metadata": {},
   "source": [
    "## Dividing smoke data into training and testing data"
   ]
  },
  {
   "cell_type": "code",
   "execution_count": 29,
   "metadata": {},
   "outputs": [
    {
     "data": {
      "text/html": [
       "<div><style>\n",
       ".dataframe > thead > tr,\n",
       ".dataframe > tbody > tr {\n",
       "  text-align: right;\n",
       "  white-space: pre-wrap;\n",
       "}\n",
       "</style>\n",
       "<small>shape: (22, 2)</small><table border=\"1\" class=\"dataframe\"><thead><tr><th>Year</th><th>smoke_metric</th></tr><tr><td>i64</td><td>f64</td></tr></thead><tbody><tr><td>1999</td><td>57.700703</td></tr><tr><td>2000</td><td>36.653385</td></tr><tr><td>2001</td><td>42.687382</td></tr><tr><td>2002</td><td>25.347045</td></tr><tr><td>2003</td><td>10.322857</td></tr><tr><td>&hellip;</td><td>&hellip;</td></tr><tr><td>2016</td><td>33.456501</td></tr><tr><td>2017</td><td>20.416088</td></tr><tr><td>2018</td><td>7.992868</td></tr><tr><td>2019</td><td>4.629976</td></tr><tr><td>2020</td><td>3.801521</td></tr></tbody></table></div>"
      ],
      "text/plain": [
       "shape: (22, 2)\n",
       "┌──────┬──────────────┐\n",
       "│ Year ┆ smoke_metric │\n",
       "│ ---  ┆ ---          │\n",
       "│ i64  ┆ f64          │\n",
       "╞══════╪══════════════╡\n",
       "│ 1999 ┆ 57.700703    │\n",
       "│ 2000 ┆ 36.653385    │\n",
       "│ 2001 ┆ 42.687382    │\n",
       "│ 2002 ┆ 25.347045    │\n",
       "│ 2003 ┆ 10.322857    │\n",
       "│ …    ┆ …            │\n",
       "│ 2016 ┆ 33.456501    │\n",
       "│ 2017 ┆ 20.416088    │\n",
       "│ 2018 ┆ 7.992868     │\n",
       "│ 2019 ┆ 4.629976     │\n",
       "│ 2020 ┆ 3.801521     │\n",
       "└──────┴──────────────┘"
      ]
     },
     "execution_count": 29,
     "metadata": {},
     "output_type": "execute_result"
    }
   ],
   "source": [
    "#smoke data from 1999-2020\n",
    "previous_smoke = smoke_pl_filtered.rename({\"Fire_Year\": \"Year\"})\n",
    "previous_smoke"
   ]
  },
  {
   "cell_type": "code",
   "execution_count": 30,
   "metadata": {},
   "outputs": [
    {
     "data": {
      "text/html": [
       "<div><style>\n",
       ".dataframe > thead > tr,\n",
       ".dataframe > tbody > tr {\n",
       "  text-align: right;\n",
       "  white-space: pre-wrap;\n",
       "}\n",
       "</style>\n",
       "<small>shape: (30, 2)</small><table border=\"1\" class=\"dataframe\"><thead><tr><th>Year</th><th>smoke_metric</th></tr><tr><td>i64</td><td>f64</td></tr></thead><tbody><tr><td>2021</td><td>27.04783</td></tr><tr><td>2022</td><td>27.076214</td></tr><tr><td>2023</td><td>28.16652</td></tr><tr><td>2024</td><td>29.512774</td></tr><tr><td>2025</td><td>30.920717</td></tr><tr><td>&hellip;</td><td>&hellip;</td></tr><tr><td>2046</td><td>60.892689</td></tr><tr><td>2047</td><td>62.320222</td></tr><tr><td>2048</td><td>63.747755</td></tr><tr><td>2049</td><td>65.175288</td></tr><tr><td>2050</td><td>66.602821</td></tr></tbody></table></div>"
      ],
      "text/plain": [
       "shape: (30, 2)\n",
       "┌──────┬──────────────┐\n",
       "│ Year ┆ smoke_metric │\n",
       "│ ---  ┆ ---          │\n",
       "│ i64  ┆ f64          │\n",
       "╞══════╪══════════════╡\n",
       "│ 2021 ┆ 27.04783     │\n",
       "│ 2022 ┆ 27.076214    │\n",
       "│ 2023 ┆ 28.16652     │\n",
       "│ 2024 ┆ 29.512774    │\n",
       "│ 2025 ┆ 30.920717    │\n",
       "│ …    ┆ …            │\n",
       "│ 2046 ┆ 60.892689    │\n",
       "│ 2047 ┆ 62.320222    │\n",
       "│ 2048 ┆ 63.747755    │\n",
       "│ 2049 ┆ 65.175288    │\n",
       "│ 2050 ┆ 66.602821    │\n",
       "└──────┴──────────────┘"
      ]
     },
     "execution_count": 30,
     "metadata": {},
     "output_type": "execute_result"
    }
   ],
   "source": [
    "#smoke data from 2020-2050\n",
    "forcasted_smoke = forcasted_smoke.rename({\"predicted_mean\": \"smoke_metric\"})\n",
    "forcasted_smoke = forcasted_smoke.select(\"Year\", \"smoke_metric\")\n",
    "forcasted_smoke"
   ]
  },
  {
   "cell_type": "code",
   "execution_count": 31,
   "metadata": {},
   "outputs": [
    {
     "data": {
      "text/html": [
       "<div><style>\n",
       ".dataframe > thead > tr,\n",
       ".dataframe > tbody > tr {\n",
       "  text-align: right;\n",
       "  white-space: pre-wrap;\n",
       "}\n",
       "</style>\n",
       "<small>shape: (52, 2)</small><table border=\"1\" class=\"dataframe\"><thead><tr><th>Year</th><th>smoke_metric</th></tr><tr><td>i64</td><td>f64</td></tr></thead><tbody><tr><td>1999</td><td>57.700703</td></tr><tr><td>2000</td><td>36.653385</td></tr><tr><td>2001</td><td>42.687382</td></tr><tr><td>2002</td><td>25.347045</td></tr><tr><td>2003</td><td>10.322857</td></tr><tr><td>&hellip;</td><td>&hellip;</td></tr><tr><td>2046</td><td>60.892689</td></tr><tr><td>2047</td><td>62.320222</td></tr><tr><td>2048</td><td>63.747755</td></tr><tr><td>2049</td><td>65.175288</td></tr><tr><td>2050</td><td>66.602821</td></tr></tbody></table></div>"
      ],
      "text/plain": [
       "shape: (52, 2)\n",
       "┌──────┬──────────────┐\n",
       "│ Year ┆ smoke_metric │\n",
       "│ ---  ┆ ---          │\n",
       "│ i64  ┆ f64          │\n",
       "╞══════╪══════════════╡\n",
       "│ 1999 ┆ 57.700703    │\n",
       "│ 2000 ┆ 36.653385    │\n",
       "│ 2001 ┆ 42.687382    │\n",
       "│ 2002 ┆ 25.347045    │\n",
       "│ 2003 ┆ 10.322857    │\n",
       "│ …    ┆ …            │\n",
       "│ 2046 ┆ 60.892689    │\n",
       "│ 2047 ┆ 62.320222    │\n",
       "│ 2048 ┆ 63.747755    │\n",
       "│ 2049 ┆ 65.175288    │\n",
       "│ 2050 ┆ 66.602821    │\n",
       "└──────┴──────────────┘"
      ]
     },
     "execution_count": 31,
     "metadata": {},
     "output_type": "execute_result"
    }
   ],
   "source": [
    "overall_smoke_predicted = previous_smoke.vstack(forcasted_smoke)\n",
    "overall_smoke_predicted"
   ]
  },
  {
   "cell_type": "markdown",
   "metadata": {},
   "source": [
    "## Asthma Deathsm data analysis"
   ]
  },
  {
   "cell_type": "code",
   "execution_count": 60,
   "metadata": {},
   "outputs": [],
   "source": [
    "#load death data file\n",
    "death_file = pd.read_csv(\"initial data files/Asthma_deaths_cdc.txt\", sep=\"\\t\", index_col=\"Year\")"
   ]
  },
  {
   "cell_type": "code",
   "execution_count": 62,
   "metadata": {},
   "outputs": [],
   "source": [
    "# Convert death_file DataFrame from pandas to polars\n",
    "death_data = pl.from_pandas(death_file)\n",
    "\n",
    "# Select relevant columns and rename them\n",
    "historical_deaths = death_data.select(\"Year Code\", \"Deaths\", \"Population\")\n",
    "historical_deaths = historical_deaths.rename({\"Year Code\": \"Year\"})"
   ]
  },
  {
   "cell_type": "code",
   "execution_count": 64,
   "metadata": {},
   "outputs": [],
   "source": [
    "#below code is to calculate deaths per million\n",
    "historical_deaths_dpm = historical_deaths.with_columns(\n",
    "    \n",
    "        ((pl.col(\"Deaths\") * 1000000) / pl.col(\"Population\")).alias(\"Deaths per million\")\n",
    "    \n",
    ")"
   ]
  },
  {
   "cell_type": "code",
   "execution_count": 66,
   "metadata": {},
   "outputs": [],
   "source": [
    "#we will use only these 2 columns\n",
    "hist_deaths_dpm = historical_deaths_dpm.select(\"Year\", \"Deaths per million\")"
   ]
  },
  {
   "cell_type": "code",
   "execution_count": 67,
   "metadata": {},
   "outputs": [
    {
     "data": {
      "text/html": [
       "<div><style>\n",
       ".dataframe > thead > tr,\n",
       ".dataframe > tbody > tr {\n",
       "  text-align: right;\n",
       "  white-space: pre-wrap;\n",
       "}\n",
       "</style>\n",
       "<small>shape: (22, 2)</small><table border=\"1\" class=\"dataframe\"><thead><tr><th>Year</th><th>Deaths per million</th></tr><tr><td>i64</td><td>f64</td></tr></thead><tbody><tr><td>1999</td><td>40.129889</td></tr><tr><td>2000</td><td>48.103852</td></tr><tr><td>2001</td><td>45.833319</td></tr><tr><td>2002</td><td>50.717621</td></tr><tr><td>2003</td><td>58.24065</td></tr><tr><td>&hellip;</td><td>&hellip;</td></tr><tr><td>2016</td><td>28.063515</td></tr><tr><td>2017</td><td>32.893426</td></tr><tr><td>2018</td><td>30.30039</td></tr><tr><td>2019</td><td>39.77112</td></tr><tr><td>2020</td><td>65.885877</td></tr></tbody></table></div>"
      ],
      "text/plain": [
       "shape: (22, 2)\n",
       "┌──────┬────────────────────┐\n",
       "│ Year ┆ Deaths per million │\n",
       "│ ---  ┆ ---                │\n",
       "│ i64  ┆ f64                │\n",
       "╞══════╪════════════════════╡\n",
       "│ 1999 ┆ 40.129889          │\n",
       "│ 2000 ┆ 48.103852          │\n",
       "│ 2001 ┆ 45.833319          │\n",
       "│ 2002 ┆ 50.717621          │\n",
       "│ 2003 ┆ 58.24065           │\n",
       "│ …    ┆ …                  │\n",
       "│ 2016 ┆ 28.063515          │\n",
       "│ 2017 ┆ 32.893426          │\n",
       "│ 2018 ┆ 30.30039           │\n",
       "│ 2019 ┆ 39.77112           │\n",
       "│ 2020 ┆ 65.885877          │\n",
       "└──────┴────────────────────┘"
      ]
     },
     "execution_count": 67,
     "metadata": {},
     "output_type": "execute_result"
    }
   ],
   "source": [
    "hist_deaths_dpm"
   ]
  },
  {
   "cell_type": "markdown",
   "metadata": {},
   "source": [
    "Now we have both the asthma data and the total smoke data ready. We can use this to fit a model to predict asthma deaths."
   ]
  },
  {
   "cell_type": "code",
   "execution_count": 69,
   "metadata": {},
   "outputs": [],
   "source": [
    "#divide into training and future data\n",
    "training_smoke_data = overall_smoke_predicted.filter(pl.col(\"Year\") <= 2020)\n",
    "future_smoke_data = overall_smoke_predicted.filter(pl.col(\"Year\") >= 2021)"
   ]
  },
  {
   "cell_type": "markdown",
   "metadata": {},
   "source": [
    "## Merging Deaths and Smoke Data"
   ]
  },
  {
   "cell_type": "markdown",
   "metadata": {},
   "source": [
    "Below, we merge the deaths and smoke data to create a single dataset that can be used to train a model to predict asthma deaths."
   ]
  },
  {
   "cell_type": "code",
   "execution_count": 42,
   "metadata": {},
   "outputs": [],
   "source": [
    "training_data = training_smoke_data.join(hist_deaths_dpm, on=\"Year\")"
   ]
  },
  {
   "cell_type": "code",
   "execution_count": 43,
   "metadata": {},
   "outputs": [],
   "source": [
    "shifted_training_data = training_data.with_columns(\n",
    "        \n",
    "        pl.col(\"smoke_metric\").shift(1).alias(\"smoke_metric_lag1\")\n",
    ")\n",
    "shifted_training_data = shifted_training_data.filter(pl.col(\"Year\").is_between(2000, 2019))"
   ]
  },
  {
   "cell_type": "code",
   "execution_count": 44,
   "metadata": {},
   "outputs": [],
   "source": [
    "training_data_pd = training_data.to_pandas()"
   ]
  },
  {
   "cell_type": "code",
   "execution_count": 45,
   "metadata": {},
   "outputs": [
    {
     "data": {
      "text/html": [
       "<div>\n",
       "<style scoped>\n",
       "    .dataframe tbody tr th:only-of-type {\n",
       "        vertical-align: middle;\n",
       "    }\n",
       "\n",
       "    .dataframe tbody tr th {\n",
       "        vertical-align: top;\n",
       "    }\n",
       "\n",
       "    .dataframe thead th {\n",
       "        text-align: right;\n",
       "    }\n",
       "</style>\n",
       "<table border=\"1\" class=\"dataframe\">\n",
       "  <thead>\n",
       "    <tr style=\"text-align: right;\">\n",
       "      <th></th>\n",
       "      <th>Year</th>\n",
       "      <th>smoke_metric</th>\n",
       "      <th>Deaths per million</th>\n",
       "      <th>smoke_metric_lag1</th>\n",
       "    </tr>\n",
       "  </thead>\n",
       "  <tbody>\n",
       "    <tr>\n",
       "      <th>0</th>\n",
       "      <td>2000</td>\n",
       "      <td>36.653385</td>\n",
       "      <td>48.103852</td>\n",
       "      <td>57.700703</td>\n",
       "    </tr>\n",
       "    <tr>\n",
       "      <th>1</th>\n",
       "      <td>2001</td>\n",
       "      <td>42.687382</td>\n",
       "      <td>45.833319</td>\n",
       "      <td>36.653385</td>\n",
       "    </tr>\n",
       "    <tr>\n",
       "      <th>2</th>\n",
       "      <td>2002</td>\n",
       "      <td>25.347045</td>\n",
       "      <td>50.717621</td>\n",
       "      <td>42.687382</td>\n",
       "    </tr>\n",
       "    <tr>\n",
       "      <th>3</th>\n",
       "      <td>2003</td>\n",
       "      <td>10.322857</td>\n",
       "      <td>58.240650</td>\n",
       "      <td>25.347045</td>\n",
       "    </tr>\n",
       "    <tr>\n",
       "      <th>4</th>\n",
       "      <td>2004</td>\n",
       "      <td>18.321140</td>\n",
       "      <td>36.841492</td>\n",
       "      <td>10.322857</td>\n",
       "    </tr>\n",
       "    <tr>\n",
       "      <th>5</th>\n",
       "      <td>2005</td>\n",
       "      <td>17.907898</td>\n",
       "      <td>36.891434</td>\n",
       "      <td>18.321140</td>\n",
       "    </tr>\n",
       "    <tr>\n",
       "      <th>6</th>\n",
       "      <td>2006</td>\n",
       "      <td>19.184243</td>\n",
       "      <td>41.646795</td>\n",
       "      <td>17.907898</td>\n",
       "    </tr>\n",
       "    <tr>\n",
       "      <th>7</th>\n",
       "      <td>2007</td>\n",
       "      <td>41.461169</td>\n",
       "      <td>38.839919</td>\n",
       "      <td>19.184243</td>\n",
       "    </tr>\n",
       "    <tr>\n",
       "      <th>8</th>\n",
       "      <td>2008</td>\n",
       "      <td>29.751388</td>\n",
       "      <td>54.676472</td>\n",
       "      <td>41.461169</td>\n",
       "    </tr>\n",
       "    <tr>\n",
       "      <th>9</th>\n",
       "      <td>2009</td>\n",
       "      <td>15.696519</td>\n",
       "      <td>43.573157</td>\n",
       "      <td>29.751388</td>\n",
       "    </tr>\n",
       "    <tr>\n",
       "      <th>10</th>\n",
       "      <td>2010</td>\n",
       "      <td>22.063154</td>\n",
       "      <td>34.731187</td>\n",
       "      <td>15.696519</td>\n",
       "    </tr>\n",
       "    <tr>\n",
       "      <th>11</th>\n",
       "      <td>2011</td>\n",
       "      <td>36.412386</td>\n",
       "      <td>44.257262</td>\n",
       "      <td>22.063154</td>\n",
       "    </tr>\n",
       "    <tr>\n",
       "      <th>12</th>\n",
       "      <td>2012</td>\n",
       "      <td>27.412507</td>\n",
       "      <td>39.415691</td>\n",
       "      <td>36.412386</td>\n",
       "    </tr>\n",
       "    <tr>\n",
       "      <th>13</th>\n",
       "      <td>2013</td>\n",
       "      <td>6.740719</td>\n",
       "      <td>37.986949</td>\n",
       "      <td>27.412507</td>\n",
       "    </tr>\n",
       "    <tr>\n",
       "      <th>14</th>\n",
       "      <td>2014</td>\n",
       "      <td>11.069489</td>\n",
       "      <td>40.376928</td>\n",
       "      <td>6.740719</td>\n",
       "    </tr>\n",
       "    <tr>\n",
       "      <th>15</th>\n",
       "      <td>2015</td>\n",
       "      <td>11.059304</td>\n",
       "      <td>44.020768</td>\n",
       "      <td>11.069489</td>\n",
       "    </tr>\n",
       "    <tr>\n",
       "      <th>16</th>\n",
       "      <td>2016</td>\n",
       "      <td>33.456501</td>\n",
       "      <td>28.063515</td>\n",
       "      <td>11.059304</td>\n",
       "    </tr>\n",
       "    <tr>\n",
       "      <th>17</th>\n",
       "      <td>2017</td>\n",
       "      <td>20.416088</td>\n",
       "      <td>32.893426</td>\n",
       "      <td>33.456501</td>\n",
       "    </tr>\n",
       "    <tr>\n",
       "      <th>18</th>\n",
       "      <td>2018</td>\n",
       "      <td>7.992868</td>\n",
       "      <td>30.300390</td>\n",
       "      <td>20.416088</td>\n",
       "    </tr>\n",
       "    <tr>\n",
       "      <th>19</th>\n",
       "      <td>2019</td>\n",
       "      <td>4.629976</td>\n",
       "      <td>39.771120</td>\n",
       "      <td>7.992868</td>\n",
       "    </tr>\n",
       "  </tbody>\n",
       "</table>\n",
       "</div>"
      ],
      "text/plain": [
       "    Year  smoke_metric  Deaths per million  smoke_metric_lag1\n",
       "0   2000     36.653385           48.103852          57.700703\n",
       "1   2001     42.687382           45.833319          36.653385\n",
       "2   2002     25.347045           50.717621          42.687382\n",
       "3   2003     10.322857           58.240650          25.347045\n",
       "4   2004     18.321140           36.841492          10.322857\n",
       "5   2005     17.907898           36.891434          18.321140\n",
       "6   2006     19.184243           41.646795          17.907898\n",
       "7   2007     41.461169           38.839919          19.184243\n",
       "8   2008     29.751388           54.676472          41.461169\n",
       "9   2009     15.696519           43.573157          29.751388\n",
       "10  2010     22.063154           34.731187          15.696519\n",
       "11  2011     36.412386           44.257262          22.063154\n",
       "12  2012     27.412507           39.415691          36.412386\n",
       "13  2013      6.740719           37.986949          27.412507\n",
       "14  2014     11.069489           40.376928           6.740719\n",
       "15  2015     11.059304           44.020768          11.069489\n",
       "16  2016     33.456501           28.063515          11.059304\n",
       "17  2017     20.416088           32.893426          33.456501\n",
       "18  2018      7.992868           30.300390          20.416088\n",
       "19  2019      4.629976           39.771120           7.992868"
      ]
     },
     "execution_count": 45,
     "metadata": {},
     "output_type": "execute_result"
    }
   ],
   "source": [
    "shifted_training_data_pd = shifted_training_data.to_pandas()\n",
    "shifted_training_data_pd"
   ]
  },
  {
   "cell_type": "code",
   "execution_count": 46,
   "metadata": {},
   "outputs": [
    {
     "data": {
      "text/html": [
       "<div>\n",
       "<style scoped>\n",
       "    .dataframe tbody tr th:only-of-type {\n",
       "        vertical-align: middle;\n",
       "    }\n",
       "\n",
       "    .dataframe tbody tr th {\n",
       "        vertical-align: top;\n",
       "    }\n",
       "\n",
       "    .dataframe thead th {\n",
       "        text-align: right;\n",
       "    }\n",
       "</style>\n",
       "<table border=\"1\" class=\"dataframe\">\n",
       "  <thead>\n",
       "    <tr style=\"text-align: right;\">\n",
       "      <th></th>\n",
       "      <th>Year</th>\n",
       "      <th>smoke_metric</th>\n",
       "      <th>Deaths per million</th>\n",
       "      <th>smoke_metric_lag1</th>\n",
       "    </tr>\n",
       "  </thead>\n",
       "  <tbody>\n",
       "    <tr>\n",
       "      <th>0</th>\n",
       "      <td>2000</td>\n",
       "      <td>36.653385</td>\n",
       "      <td>48.103852</td>\n",
       "      <td>57.700703</td>\n",
       "    </tr>\n",
       "    <tr>\n",
       "      <th>1</th>\n",
       "      <td>2001</td>\n",
       "      <td>42.687382</td>\n",
       "      <td>45.833319</td>\n",
       "      <td>36.653385</td>\n",
       "    </tr>\n",
       "    <tr>\n",
       "      <th>2</th>\n",
       "      <td>2002</td>\n",
       "      <td>25.347045</td>\n",
       "      <td>50.717621</td>\n",
       "      <td>42.687382</td>\n",
       "    </tr>\n",
       "    <tr>\n",
       "      <th>3</th>\n",
       "      <td>2003</td>\n",
       "      <td>10.322857</td>\n",
       "      <td>58.240650</td>\n",
       "      <td>25.347045</td>\n",
       "    </tr>\n",
       "    <tr>\n",
       "      <th>4</th>\n",
       "      <td>2004</td>\n",
       "      <td>18.321140</td>\n",
       "      <td>36.841492</td>\n",
       "      <td>10.322857</td>\n",
       "    </tr>\n",
       "    <tr>\n",
       "      <th>5</th>\n",
       "      <td>2005</td>\n",
       "      <td>17.907898</td>\n",
       "      <td>36.891434</td>\n",
       "      <td>18.321140</td>\n",
       "    </tr>\n",
       "    <tr>\n",
       "      <th>6</th>\n",
       "      <td>2006</td>\n",
       "      <td>19.184243</td>\n",
       "      <td>41.646795</td>\n",
       "      <td>17.907898</td>\n",
       "    </tr>\n",
       "    <tr>\n",
       "      <th>7</th>\n",
       "      <td>2007</td>\n",
       "      <td>41.461169</td>\n",
       "      <td>38.839919</td>\n",
       "      <td>19.184243</td>\n",
       "    </tr>\n",
       "    <tr>\n",
       "      <th>8</th>\n",
       "      <td>2008</td>\n",
       "      <td>29.751388</td>\n",
       "      <td>54.676472</td>\n",
       "      <td>41.461169</td>\n",
       "    </tr>\n",
       "    <tr>\n",
       "      <th>9</th>\n",
       "      <td>2009</td>\n",
       "      <td>15.696519</td>\n",
       "      <td>43.573157</td>\n",
       "      <td>29.751388</td>\n",
       "    </tr>\n",
       "    <tr>\n",
       "      <th>10</th>\n",
       "      <td>2010</td>\n",
       "      <td>22.063154</td>\n",
       "      <td>34.731187</td>\n",
       "      <td>15.696519</td>\n",
       "    </tr>\n",
       "    <tr>\n",
       "      <th>11</th>\n",
       "      <td>2011</td>\n",
       "      <td>36.412386</td>\n",
       "      <td>44.257262</td>\n",
       "      <td>22.063154</td>\n",
       "    </tr>\n",
       "    <tr>\n",
       "      <th>12</th>\n",
       "      <td>2012</td>\n",
       "      <td>27.412507</td>\n",
       "      <td>39.415691</td>\n",
       "      <td>36.412386</td>\n",
       "    </tr>\n",
       "    <tr>\n",
       "      <th>13</th>\n",
       "      <td>2013</td>\n",
       "      <td>6.740719</td>\n",
       "      <td>37.986949</td>\n",
       "      <td>27.412507</td>\n",
       "    </tr>\n",
       "    <tr>\n",
       "      <th>14</th>\n",
       "      <td>2014</td>\n",
       "      <td>11.069489</td>\n",
       "      <td>40.376928</td>\n",
       "      <td>6.740719</td>\n",
       "    </tr>\n",
       "    <tr>\n",
       "      <th>15</th>\n",
       "      <td>2015</td>\n",
       "      <td>11.059304</td>\n",
       "      <td>44.020768</td>\n",
       "      <td>11.069489</td>\n",
       "    </tr>\n",
       "    <tr>\n",
       "      <th>16</th>\n",
       "      <td>2016</td>\n",
       "      <td>33.456501</td>\n",
       "      <td>28.063515</td>\n",
       "      <td>11.059304</td>\n",
       "    </tr>\n",
       "    <tr>\n",
       "      <th>17</th>\n",
       "      <td>2017</td>\n",
       "      <td>20.416088</td>\n",
       "      <td>32.893426</td>\n",
       "      <td>33.456501</td>\n",
       "    </tr>\n",
       "    <tr>\n",
       "      <th>18</th>\n",
       "      <td>2018</td>\n",
       "      <td>7.992868</td>\n",
       "      <td>30.300390</td>\n",
       "      <td>20.416088</td>\n",
       "    </tr>\n",
       "    <tr>\n",
       "      <th>19</th>\n",
       "      <td>2019</td>\n",
       "      <td>4.629976</td>\n",
       "      <td>39.771120</td>\n",
       "      <td>7.992868</td>\n",
       "    </tr>\n",
       "  </tbody>\n",
       "</table>\n",
       "</div>"
      ],
      "text/plain": [
       "    Year  smoke_metric  Deaths per million  smoke_metric_lag1\n",
       "0   2000     36.653385           48.103852          57.700703\n",
       "1   2001     42.687382           45.833319          36.653385\n",
       "2   2002     25.347045           50.717621          42.687382\n",
       "3   2003     10.322857           58.240650          25.347045\n",
       "4   2004     18.321140           36.841492          10.322857\n",
       "5   2005     17.907898           36.891434          18.321140\n",
       "6   2006     19.184243           41.646795          17.907898\n",
       "7   2007     41.461169           38.839919          19.184243\n",
       "8   2008     29.751388           54.676472          41.461169\n",
       "9   2009     15.696519           43.573157          29.751388\n",
       "10  2010     22.063154           34.731187          15.696519\n",
       "11  2011     36.412386           44.257262          22.063154\n",
       "12  2012     27.412507           39.415691          36.412386\n",
       "13  2013      6.740719           37.986949          27.412507\n",
       "14  2014     11.069489           40.376928           6.740719\n",
       "15  2015     11.059304           44.020768          11.069489\n",
       "16  2016     33.456501           28.063515          11.059304\n",
       "17  2017     20.416088           32.893426          33.456501\n",
       "18  2018      7.992868           30.300390          20.416088\n",
       "19  2019      4.629976           39.771120           7.992868"
      ]
     },
     "execution_count": 46,
     "metadata": {},
     "output_type": "execute_result"
    }
   ],
   "source": [
    "shifted_training_data_pd"
   ]
  },
  {
   "cell_type": "code",
   "execution_count": 70,
   "metadata": {},
   "outputs": [],
   "source": [
    "#divide into training and test data. Data hyas been shifted by 1 year\n",
    "training_data_model = shifted_training_data.filter(pl.col(\"Year\").is_between(2000, 2015))\n",
    "test_data_model = shifted_training_data.filter(pl.col(\"Year\").is_between(2016, 2019))\n",
    "training_data_model = training_data_model.to_pandas()\n",
    "test_data_model = test_data_model.to_pandas()"
   ]
  },
  {
   "cell_type": "code",
   "execution_count": 72,
   "metadata": {},
   "outputs": [
    {
     "data": {
      "image/png": "[encoded data removed]",
      "text/plain": [
       "<Figure size 1200x600 with 1 Axes>"
      ]
     },
     "metadata": {},
     "output_type": "display_data"
    }
   ],
   "source": [
    "plt.figure(figsize=(12, 6))\n",
    "plt.plot(shifted_training_data_pd[\"Year\"], shifted_training_data_pd[\"Deaths per million\"], label=\"Deaths per million\")\n",
    "plt.plot(shifted_training_data_pd[\"Year\"], shifted_training_data_pd[\"smoke_metric_lag1\"], label=\"Smoke Metric Lag 1 Year\")\n",
    "plt.xlabel(\"Year\")\n",
    "plt.ylabel(\"Value\")\n",
    "plt.title(\"Deaths per Million and Smoke Metric Lag 1 Year\")\n",
    "plt.legend()\n",
    "plt.show()"
   ]
  },
  {
   "cell_type": "markdown",
   "metadata": {},
   "source": [
    "Above chart shows good correlation between the two datasets. This means that the smoke data can be used to predict the number of asthma deaths."
   ]
  },
  {
   "cell_type": "code",
   "execution_count": 49,
   "metadata": {},
   "outputs": [
    {
     "name": "stdout",
     "output_type": "stream",
     "text": [
      "0.4956437698771349 0.02625970326414106\n"
     ]
    }
   ],
   "source": [
    "print(correlation_coefficient, p_value)"
   ]
  },
  {
   "cell_type": "markdown",
   "metadata": {},
   "source": [
    "We are done with the cleaning, exploration, and analysis of the data. We can now move on to the next step, which is to build a model to predict the number of asthma deaths in Philadelphia county."
   ]
  },
  {
   "cell_type": "markdown",
   "metadata": {},
   "source": [
    "Below, we take all the intermediate tables and save them as csv files for further processing in the next notebook."
   ]
  },
  {
   "cell_type": "code",
   "execution_count": 58,
   "metadata": {},
   "outputs": [],
   "source": [
    "training_data_model.to_csv(\"intermediate data files/training_data_model.csv\")\n",
    "test_data_model.to_csv(\"intermediate data files/test_data_model.csv\")\n",
    "shifted_training_data_pd.to_csv(\"intermediate data files/shifted_training_data.csv\")\n",
    "future_smoke_data.to_pandas().to_csv(\"intermediate data files/future_smoke_data.csv\")\n",
    "asthma_kids_discharges_100000.to_pandas().to_csv(\"intermediate data files/asthma_kids_discharges_100000.csv\")\n",
    "shifted_training_data.to_pandas().to_csv(\"intermediate data files/shifted_training_data.csv\")"
   ]
  }
 ],
 "metadata": {
  "kernelspec": {
   "display_name": "Python 3",
   "language": "python",
   "name": "python3"
  },
  "language_info": {
   "codemirror_mode": {
    "name": "ipython",
    "version": 3
   },
   "file_extension": ".py",
   "mimetype": "text/x-python",
   "name": "python",
   "nbconvert_exporter": "python",
   "pygments_lexer": "ipython3",
   "version": "3.11.6"
  }
 },
 "nbformat": 4,
 "nbformat_minor": 2
}
